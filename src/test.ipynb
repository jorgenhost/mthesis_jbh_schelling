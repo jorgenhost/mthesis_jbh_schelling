{
 "cells": [
  {
   "cell_type": "code",
   "execution_count": 5,
   "metadata": {},
   "outputs": [
    {
     "data": {
      "text/plain": [
       "TimeRange(start=datetime.date(2020, 5, 20), end=datetime.date(2021, 5, 20))"
      ]
     },
     "execution_count": 5,
     "metadata": {},
     "output_type": "execute_result"
    }
   ],
   "source": [
    "import unittest\n",
    "from datetime import datetime,date \n",
    "\n",
    "from timeset import TimeRange\n",
    "\n",
    "start = date(2020, 5, 20)\n",
    "end = date(2021, 5, 20)\n",
    "string_repr = \"TimeRange(start=datetime.datetime(2021, 5, 20, 12, 12), end=datetime.datetime(2021, 5, 20, 14, 12))\"\n",
    "\n",
    "t = TimeRange(start=start, end=end)\n",
    "t"
   ]
  },
  {
   "cell_type": "code",
   "execution_count": 6,
   "metadata": {},
   "outputs": [
    {
     "ename": "AttributeError",
     "evalue": "'TimeRange' object has no attribute '_periods'",
     "output_type": "error",
     "traceback": [
      "\u001b[1;31m---------------------------------------------------------------------------\u001b[0m",
      "\u001b[1;31mAttributeError\u001b[0m                            Traceback (most recent call last)",
      "Cell \u001b[1;32mIn[6], line 1\u001b[0m\n\u001b[1;32m----> 1\u001b[0m \u001b[43mt\u001b[49m\u001b[38;5;241;43m.\u001b[39;49m\u001b[38;5;21;43m__contains__\u001b[39;49m\u001b[43m(\u001b[49m\u001b[43mdate\u001b[49m\u001b[43m(\u001b[49m\u001b[38;5;241;43m2020\u001b[39;49m\u001b[43m,\u001b[49m\u001b[43m \u001b[49m\u001b[38;5;241;43m10\u001b[39;49m\u001b[43m,\u001b[49m\u001b[43m \u001b[49m\u001b[38;5;241;43m1\u001b[39;49m\u001b[43m)\u001b[49m\u001b[43m)\u001b[49m\n",
      "File \u001b[1;32mc:\\Users\\JBH\\Dropbox\\mthesis\\src\\timeset.py:53\u001b[0m, in \u001b[0;36mTimeRange.__contains__\u001b[1;34m(self, moment)\u001b[0m\n\u001b[0;32m     52\u001b[0m \u001b[38;5;28;01mdef\u001b[39;00m \u001b[38;5;21m__contains__\u001b[39m(\u001b[38;5;28mself\u001b[39m, moment: datetime) \u001b[38;5;241m-\u001b[39m\u001b[38;5;241m>\u001b[39m \u001b[38;5;28mbool\u001b[39m:\n\u001b[1;32m---> 53\u001b[0m     \u001b[38;5;28;01mreturn\u001b[39;00m \u001b[38;5;28many\u001b[39m([moment \u001b[38;5;129;01min\u001b[39;00m p \u001b[38;5;28;01mfor\u001b[39;00m p \u001b[38;5;129;01min\u001b[39;00m \u001b[38;5;28;43mself\u001b[39;49m\u001b[38;5;241;43m.\u001b[39;49m\u001b[43m_periods\u001b[49m])\n",
      "\u001b[1;31mAttributeError\u001b[0m: 'TimeRange' object has no attribute '_periods'"
     ]
    }
   ],
   "source": [
    "t.__contains__(date(2020, 10, 1))"
   ]
  },
  {
   "cell_type": "code",
   "execution_count": null,
   "metadata": {},
   "outputs": [],
   "source": [
    "\n",
    "\n",
    "class TimeRangeInitializationTest(unittest.TestCase):\n",
    "\n",
    "    def test_initialization_with_start_and_end(self):\n",
    "        t = TimeRange(start=start, end=end)\n",
    "        self.assertEqual(str(t), string_repr)\n",
    "\n",
    "    def test_empty_initialization(self):\n",
    "        t = TimeRange()\n",
    "        self.assertEqual(str(t), \"TimeRange()\")    \n",
    "    \n",
    "    def test_start_end_integrity(self):\n",
    "        with self.assertRaises(ValueError):\n",
    "            TimeRange(start=end, end=start)\n"
   ]
  }
 ],
 "metadata": {
  "kernelspec": {
   "display_name": "sandbox",
   "language": "python",
   "name": "python3"
  },
  "language_info": {
   "codemirror_mode": {
    "name": "ipython",
    "version": 3
   },
   "file_extension": ".py",
   "mimetype": "text/x-python",
   "name": "python",
   "nbconvert_exporter": "python",
   "pygments_lexer": "ipython3",
   "version": "3.12.4"
  }
 },
 "nbformat": 4,
 "nbformat_minor": 2
}
